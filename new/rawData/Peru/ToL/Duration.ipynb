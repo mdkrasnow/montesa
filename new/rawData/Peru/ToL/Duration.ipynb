{
  "cells": [
    {
      "cell_type": "markdown",
      "id": "d1a1a1a1",
      "metadata": {},
      "source": [
        "# Audio Length Analysis – Peru Cleaned Transcripts\n",
        "\n",
        "This notebook **measures the duration of every MP3 audio clip** already generated for the Peru video-observation study, writes those lengths back into the data set, produces visualizations, and exports a length-filtered data frame.\n",
        "\n",
        "### Objectives\n",
        "1. **Compute** the true duration (in seconds & minutes) of each *First* and *Last* audio clip.\n",
        "2. **Write** the results to new columns: `First Audio Length (sec)` / `(min)` and `Last Audio Length (sec)` / `(min)`.\n",
        "3. **De-duplicate** lengths for rows that share the same 6- or 7-digit **School Clip identifier prefix**.\n",
        "4. **Visualize** the distribution with histograms & summary stats.\n",
        "5. **Create** a second data frame containing only rows where **either audio ≥ 15 minutes** ( ≥ 900 sec ) and save it to CSV.\n",
        "\n",
        "> **Run-time note** All file operations are streamed; durations are read with *pydub* (FFmpeg-powered) so no decoding is written to disk.\n"
      ]
    },
    {
      "cell_type": "markdown",
      "id": "b2b2b2b2",
      "metadata": {},
      "source": [
        "## 0 – Environment & Dependencies\n",
        "*Installs are silent in Colab; skip if already satisfied locally.*"
      ]
    },
    {
      "cell_type": "code",
      "execution_count": 1,
      "id": "install_deps",
      "metadata": {
        "colab": {
          "base_uri": "https://localhost:8080/"
        }
      },
      "outputs": [
        {
          "name": "stderr",
          "output_type": "stream",
          "text": [
            "/opt/anaconda3/envs/Harvard/lib/python3.12/site-packages/pydub/utils.py:170: RuntimeWarning: Couldn't find ffmpeg or avconv - defaulting to ffmpeg, but may not work\n",
            "  warn(\"Couldn't find ffmpeg or avconv - defaulting to ffmpeg, but may not work\", RuntimeWarning)\n"
          ]
        }
      ],
      "source": [
        "# Install pydub & tqdm if not present\n",
        "!pip -q install pydub tqdm mutagen ffmpeg-python\n",
        "\n",
        "import importlib.util, os, sys, subprocess, json, re, time, math, textwrap, hashlib, random, string\n",
        "from pathlib import Path\n",
        "import pandas as pd\n",
        "from tqdm.notebook import tqdm\n",
        "from pydub import AudioSegment\n",
        "import matplotlib.pyplot as plt\n",
        "\n",
        "# Detect Colab for Drive mount convenience\n",
        "IN_COLAB = importlib.util.find_spec(\"google.colab\") is not None\n",
        "if IN_COLAB:\n",
        "    from google.colab import drive as _gdrive\n",
        "    _gdrive.mount('/content/drive')\n",
        "    DISPLAY_BASE = Path('/content/drive/My Drive')\n",
        "else:\n",
        "    DISPLAY_BASE = Path('/')  # root placeholder for Path.relative_to later"
      ]
    },
    {
      "cell_type": "markdown",
      "id": "c3c3c3c3",
      "metadata": {},
      "source": [
        "## 1 – Path Configuration & Data Load"
      ]
    },
    {
      "cell_type": "code",
      "execution_count": 2,
      "id": "cfg_paths",
      "metadata": {},
      "outputs": [
        {
          "name": "stdout",
          "output_type": "stream",
          "text": [
            "✅ Loading transcripts from: /Users/mkrasnow/Desktop/montesa/new/formattedData/TIMESTAMPED_peru_cleaned_transcripts.csv\n",
            "Rows: 203 | Columns: 73\n"
          ]
        }
      ],
      "source": [
        "# ---------- USER-EDITABLE PATHS ----------\n",
        "\n",
        "# Primary cleaned transcript CSV (with audio clip columns already present)\n",
        "LOCAL_CSV_PATH = Path('/Users/mkrasnow/Desktop/montesa/new/formattedData/TIMESTAMPED_peru_cleaned_transcripts.csv')\n",
        "\n",
        "# In Colab, map the above path inside Drive; adjust if your Drive structure differs\n",
        "if IN_COLAB:\n",
        "    CSV_PATH = Path('/content/drive/My Drive/montesa/new/formattedData/TIMESTAMPED_peru_cleaned_transcripts.csv')\n",
        "else:\n",
        "    CSV_PATH = LOCAL_CSV_PATH\n",
        "\n",
        "assert CSV_PATH.exists(), f\"❌ CSV file not found at {CSV_PATH} – check the path.\"\n",
        "print(f\"✅ Loading transcripts from: {CSV_PATH}\")\n",
        "\n",
        "df = pd.read_csv(CSV_PATH)\n",
        "print(f\"Rows: {len(df):,} | Columns: {len(df.columns)}\")"
      ]
    },
    {
      "cell_type": "markdown",
      "id": "d4d4d4d4",
      "metadata": {},
      "source": [
        "## 2 – Helper Functions"
      ]
    },
    {
      "cell_type": "code",
      "execution_count": 3,
      "id": "helpers",
      "metadata": {},
      "outputs": [],
      "source": [
        "def full_audio_path(rel_path: str) -> Path:\n",
        "    \"\"\"Return absolute Path to an MP3 given a relative column entry.\"\"\"\n",
        "    if pd.isna(rel_path) or not str(rel_path).strip():\n",
        "        return None\n",
        "    if IN_COLAB:\n",
        "        return Path('/content/drive/My Drive') / rel_path\n",
        "    else:\n",
        "        return Path(rel_path).expanduser().resolve()\n",
        "\n",
        "def duration_seconds(path: Path) -> float:\n",
        "    \"\"\"Fast duration extraction using pydub/ffmpeg. Returns seconds (float).\"\"\"\n",
        "    try:\n",
        "        audio = AudioSegment.from_file(path)\n",
        "        return audio.duration_seconds\n",
        "    except Exception as e:\n",
        "        print(f\"⚠️ Failed reading {path}: {e}\")\n",
        "        return math.nan\n",
        "\n",
        "def identifier_prefix(identifier, length: int = 7):\n",
        "    \"\"\"Return the first `length` numeric chars of School_Clip as grouping key.\"\"\"\n",
        "    if pd.isna(identifier):\n",
        "        return None\n",
        "    m = re.match(r\"(\\d{6,7})\", str(identifier))\n",
        "    return m.group(1) if m else str(identifier)"
      ]
    },
    {
      "cell_type": "markdown",
      "id": "e5e5e5e5",
      "metadata": {},
      "source": [
        "## 3 – Compute Durations"
      ]
    },
    {
      "cell_type": "code",
      "execution_count": 4,
      "id": "compute_lengths",
      "metadata": {},
      "outputs": [
        {
          "data": {
            "application/vnd.jupyter.widget-view+json": {
              "model_id": "257f35d783724e2689735fe68c5849f2",
              "version_major": 2,
              "version_minor": 0
            },
            "text/plain": [
              "Measuring audio:   0%|          | 0/203 [00:00<?, ?row/s]"
            ]
          },
          "metadata": {},
          "output_type": "display_data"
        },
        {
          "name": "stdout",
          "output_type": "stream",
          "text": [
            "🎯 Durations computed – First: 0/203, Last: 0/203\n"
          ]
        }
      ],
      "source": [
        "# Ensure new length columns exist\n",
        "length_cols = [\n",
        "    'First Audio Length (sec)', 'First Audio Length (min)',\n",
        "    'Last Audio Length (sec)',  'Last Audio Length (min)'\n",
        "]\n",
        "for col in length_cols:\n",
        "    if col not in df.columns:\n",
        "        df[col] = math.nan\n",
        "\n",
        "# Build a cache to avoid repeat decoding for same identifier prefix\n",
        "length_cache = {}\n",
        "\n",
        "iter_rows = tqdm(df.iterrows(), total=len(df), desc=\"Measuring audio\", unit=\"row\")\n",
        "for idx, row in iter_rows:\n",
        "    prefix = identifier_prefix(row.get('School_Clip', ''))\n",
        "    if prefix in length_cache:\n",
        "        first_len, last_len = length_cache[prefix]\n",
        "    else:\n",
        "        # FIRST AUDIO\n",
        "        first_audio_path = full_audio_path(row.get('First Audio Clip'))\n",
        "        first_len = duration_seconds(first_audio_path) if first_audio_path and first_audio_path.exists() else math.nan\n",
        "        # LAST AUDIO\n",
        "        last_audio_path  = full_audio_path(row.get('Last Audio Clip'))\n",
        "        last_len  = duration_seconds(last_audio_path)  if last_audio_path  and last_audio_path.exists()  else math.nan\n",
        "        # Cache it\n",
        "        length_cache[prefix] = (first_len, last_len)\n",
        "\n",
        "    # Write lengths (sec + min)\n",
        "    if math.isfinite(first_len):\n",
        "        df.at[idx, 'First Audio Length (sec)'] = first_len\n",
        "        df.at[idx, 'First Audio Length (min)'] = first_len / 60\n",
        "    if math.isfinite(last_len):\n",
        "        df.at[idx, 'Last Audio Length (sec)'] = last_len\n",
        "        df.at[idx, 'Last Audio Length (min)'] = last_len / 60\n",
        "\n",
        "# Quick completeness report\n",
        "valid_first = df['First Audio Length (sec)'].notna().sum()\n",
        "valid_last  = df['Last Audio Length (sec)'].notna().sum()\n",
        "print(f\"🎯 Durations computed – First: {valid_first}/{len(df)}, Last: {valid_last}/{len(df)}\")"
      ]
    },
    {
      "cell_type": "markdown",
      "id": "f6f6f6f6",
      "metadata": {},
      "source": [
        "## 4 – Visualization"
      ]
    },
    {
      "cell_type": "code",
      "execution_count": 5,
      "id": "viz",
      "metadata": {},
      "outputs": [
        {
          "data": {
            "image/png": "[encoded data removed]",
            "text/plain": [
              "<Figure size 1000x500 with 1 Axes>"
            ]
          },
          "metadata": {},
          "output_type": "display_data"
        },
        {
          "data": {
            "text/html": [
              "<div>\n",
              "<style scoped>\n",
              "    .dataframe tbody tr th:only-of-type {\n",
              "        vertical-align: middle;\n",
              "    }\n",
              "\n",
              "    .dataframe tbody tr th {\n",
              "        vertical-align: top;\n",
              "    }\n",
              "\n",
              "    .dataframe thead th {\n",
              "        text-align: right;\n",
              "    }\n",
              "</style>\n",
              "<table border=\"1\" class=\"dataframe\">\n",
              "  <thead>\n",
              "    <tr style=\"text-align: right;\">\n",
              "      <th></th>\n",
              "      <th>count</th>\n",
              "      <th>mean</th>\n",
              "      <th>std</th>\n",
              "      <th>min</th>\n",
              "      <th>25%</th>\n",
              "      <th>50%</th>\n",
              "      <th>75%</th>\n",
              "      <th>max</th>\n",
              "    </tr>\n",
              "  </thead>\n",
              "  <tbody>\n",
              "    <tr>\n",
              "      <th>First Audio Length (min)</th>\n",
              "      <td>0.0</td>\n",
              "      <td>NaN</td>\n",
              "      <td>NaN</td>\n",
              "      <td>NaN</td>\n",
              "      <td>NaN</td>\n",
              "      <td>NaN</td>\n",
              "      <td>NaN</td>\n",
              "      <td>NaN</td>\n",
              "    </tr>\n",
              "    <tr>\n",
              "      <th>Last Audio Length (min)</th>\n",
              "      <td>0.0</td>\n",
              "      <td>NaN</td>\n",
              "      <td>NaN</td>\n",
              "      <td>NaN</td>\n",
              "      <td>NaN</td>\n",
              "      <td>NaN</td>\n",
              "      <td>NaN</td>\n",
              "      <td>NaN</td>\n",
              "    </tr>\n",
              "  </tbody>\n",
              "</table>\n",
              "</div>"
            ],
            "text/plain": [
              "                          count  mean  std  min  25%  50%  75%  max\n",
              "First Audio Length (min)    0.0   NaN  NaN  NaN  NaN  NaN  NaN  NaN\n",
              "Last Audio Length (min)     0.0   NaN  NaN  NaN  NaN  NaN  NaN  NaN"
            ]
          },
          "metadata": {},
          "output_type": "display_data"
        }
      ],
      "source": [
        "# Histogram of first & last audio lengths (minutes)\n",
        "plt.figure(figsize=(10,5))\n",
        "plt.hist(df['First Audio Length (min)'].dropna(), bins=40, alpha=0.6, label='First Audio')\n",
        "plt.hist(df['Last Audio Length (min)'].dropna(),  bins=40, alpha=0.6, label='Last Audio')\n",
        "plt.axvline(15, linestyle='--', lw=1)\n",
        "plt.xlabel('Duration (minutes)')\n",
        "plt.ylabel('Count')\n",
        "plt.title('Distribution of Audio Durations – Peru Clips')\n",
        "plt.legend()\n",
        "plt.show()\n",
        "\n",
        "# Summary statistics\n",
        "summary = df[[\n",
        "    'First Audio Length (min)', 'Last Audio Length (min)'\n",
        "]].describe(percentiles=[.25,.5,.75]).T\n",
        "display(summary.round(2))"
      ]
    },
    {
      "cell_type": "markdown",
      "id": "g7g7g7g7",
      "metadata": {},
      "source": [
        "## 5 – Filter ≥ 15 Minute Recordings"
      ]
    },
    {
      "cell_type": "code",
      "execution_count": 6,
      "id": "filter_15min",
      "metadata": {},
      "outputs": [
        {
          "name": "stdout",
          "output_type": "stream",
          "text": [
            "Rows ≥ 15 min: 0/203 (0.0%)\n"
          ]
        }
      ],
      "source": [
        "MIN_THRESHOLD_SEC = 15 * 60  # 900\n",
        "\n",
        "mask_15 = (\n",
        "    (df['First Audio Length (sec)'] >= MIN_THRESHOLD_SEC) |\n",
        "    (df['Last Audio Length (sec)']  >= MIN_THRESHOLD_SEC)\n",
        ")\n",
        "df_long = df[mask_15].copy()\n",
        "print(f\"Rows ≥ 15 min: {len(df_long)}/{len(df)} ({len(df_long)/len(df)*100:.1f}%)\")"
      ]
    },
    {
      "cell_type": "markdown",
      "id": "h8h8h8h8",
      "metadata": {},
      "source": [
        "## 6 – Save Results"
      ]
    },
    {
      "cell_type": "code",
      "execution_count": 7,
      "id": "save_files",
      "metadata": {},
      "outputs": [
        {
          "name": "stdout",
          "output_type": "stream",
          "text": [
            "💾 Saved length-enriched data → /Users/mkrasnow/Desktop/montesa/new/formattedData/TIMESTAMPED_peru_cleaned_transcripts_with_lengths.csv\n",
            "💾 Saved ≥15 min subset  → /Users/mkrasnow/Desktop/montesa/new/formattedData/TIMESTAMPED_peru_cleaned_transcripts_MIN15.csv\n"
          ]
        }
      ],
      "source": [
        "# Where to place outputs\n",
        "if IN_COLAB:\n",
        "    OUT_DIR = Path('/content/drive/My Drive/montesa/new/formattedData')\n",
        "else:\n",
        "    OUT_DIR = Path('/Users/mkrasnow/Desktop/montesa/new/formattedData')\n",
        "OUT_DIR.mkdir(parents=True, exist_ok=True)\n",
        "\n",
        "LEN_ENRICHED_CSV   = OUT_DIR / 'TIMESTAMPED_peru_cleaned_transcripts_with_lengths.csv'\n",
        "LONG_ONLY_CSV      = OUT_DIR / 'TIMESTAMPED_peru_cleaned_transcripts_MIN15.csv'\n",
        "\n",
        "# Save both\n",
        "df.to_csv(LEN_ENRICHED_CSV, index=False)\n",
        "df_long.to_csv(LONG_ONLY_CSV, index=False)\n",
        "\n",
        "print(f\"💾 Saved length-enriched data → {LEN_ENRICHED_CSV}\")\n",
        "print(f\"💾 Saved ≥15 min subset  → {LONG_ONLY_CSV}\")"
      ]
    },
    {
      "cell_type": "markdown",
      "id": "i9i9i9i9",
      "metadata": {},
      "source": [
        "## 7 – Wrap-Up"
      ]
    },
    {
      "cell_type": "markdown",
      "id": "j0j0j0j0",
      "metadata": {},
      "source": [
        "*Notebook complete.* Durations have been measured, visualized, and exported. You can now proceed with downstream transcription quality checks or further analysis on the ≥15-minute clips."
      ]
    }
  ],
  "metadata": {
    "accelerator": "GPU",
    "kernelspec": {
      "display_name": "Harvard",
      "language": "python",
      "name": "python3"
    },
    "language_info": {
      "codemirror_mode": {
        "name": "ipython",
        "version": 3
      },
      "file_extension": ".py",
      "mimetype": "text/x-python",
      "name": "python",
      "nbconvert_exporter": "python",
      "pygments_lexer": "ipython3",
      "version": "3.12.5"
    }
  },
  "nbformat": 4,
  "nbformat_minor": 5
}
