{
 "cells": [
  {
   "cell_type": "code",
   "execution_count": 2,
   "id": "74e8adf8",
   "metadata": {},
   "outputs": [],
   "source": [
    "# Desired evaluation column names\n",
    "component_names = [\n",
    "    \"Teacher provides learning activity - 1st Snapshot\",\n",
    "    \"Students are on task - 1st Snapshot\",\n",
    "    \"Teacher provides learning activity - 2nd Snapshot\",\n",
    "    \"Students are on task - 2nd Snapshot\",\n",
    "    \"Teacher provides learning activity - 3rd Snapshot\",\n",
    "    \"Students are on task - 3rd Snapshot\",\n",
    "    \"Supportive Learning Environment\",\n",
    "    \"The teacher treats all students respectfully\",\n",
    "    \"The teacher uses positive language\",\n",
    "    \"The teacher responds to students needs\",\n",
    "    \"The teacher does not exhibit gender bias\",\n",
    "    \"Positive Behavioral Expectations\",\n",
    "    \"The teacher sets clear behavioral expectations\",\n",
    "    \"The teacher acknowledges positive student behavior\",\n",
    "    \"The teacher redirects misbehavior\",\n",
    "    \"Lesson Facilitation\",\n",
    "    \"The teacher explicitly articulates learning objectives\",\n",
    "    \"The teacher's explanation of content is clear\",\n",
    "    \"The teacher makes connections in the lesson\",\n",
    "    \"The teacher models by enacting or thinking aloud\",\n",
    "    \"Checks for understanding\",\n",
    "    \"The teacher uses questions\",\n",
    "    \"The teacher uses prompts\",\n",
    "    \"The teacher monitors most students\",\n",
    "    \"The teacher adjusts teaching to the level of students\",\n",
    "    \"Feedback\",\n",
    "    \"The teacher provides specific comments for misunderstandings\",\n",
    "    \"The teacher provides specific comments for successes\",\n",
    "    \"Critical Thinking\",\n",
    "    \"The teacher asks open-ended questions\",\n",
    "    \"The teacher provides thinking tasks\",\n",
    "    \"Students ask open-ended questions or perform thinking tasks\",\n",
    "    \"Autonomy\",\n",
    "    \"The teacher provides students with choices\",\n",
    "    \"The teacher provides students with opportunities to take meaningful roles\",\n",
    "    \"Students volunteer to participate in the classroom\",\n",
    "    \"Perseverance\",\n",
    "    \"The teacher acknowledges students' efforts\",\n",
    "    \"The teacher has a positive attitude towards students' challenges\",\n",
    "    \"The teacher encourages goal-setting\",\n",
    "    \"Social & Collaborative Skills\",\n",
    "    \"The teacher promotes students' collaboration\",\n",
    "    \"The teacher promotes students' interpersonal skills\"\n",
    "]"
   ]
  },
  {
   "cell_type": "code",
   "execution_count": 1,
   "id": "036c1a2b",
   "metadata": {},
   "outputs": [],
   "source": [
    "# --- Hardcoded paths ---\n",
    "INPUT_CSV = '/Users/mkrasnow/Desktop/montesa/new/formattedData/peru_cleaned_transcripts.csv'\n",
    "OUTPUT_CSV = '/Users/mkrasnow/Desktop/montesa/new/formattedData/val_peru_cleaned_transcripts.csv'\n"
   ]
  },
  {
   "cell_type": "code",
   "execution_count": null,
   "id": "5382e2eb",
   "metadata": {},
   "outputs": [
    {
     "name": "stdout",
     "output_type": "stream",
     "text": [
      "✅ Saved new file with validation split to: /Users/mkrasnow/Desktop/montesa/new/formattedData/val_peru_cleaned_transcripts.csv\n"
     ]
    }
   ],
   "source": [
    "#!/usr/bin/env python3\n",
    "\"\"\"\n",
    "This script reads a CSV with existing 'train' and 'test' splits,\n",
    "carves out 20% of the training set as a validation fold (stratified),\n",
    "labels it 'val', and writes a new CSV.\n",
    "\"\"\"\n",
    "!pip install -q iterative-stratification\n",
    "\n",
    "import pandas as pd\n",
    "\n",
    "from iterstrat.ml_stratifiers import MultilabelStratifiedShuffleSplit\n",
    "from sklearn.preprocessing import MultiLabelBinarizer\n",
    "\n",
    "\n",
    "# --- Main logic ---\n",
    "def main():\n",
    "    # Load data\n",
    "    df = pd.read_csv(INPUT_CSV)\n",
    "\n",
    "    # Identify evaluation columns (must match the list used originally)\n",
    "    # Assumes `component_names` is already defined in this environment\n",
    "    eval_cols = [col for col in component_names if col in df.columns]\n",
    "\n",
    "    # Build multilabel targets array Y\n",
    "    labels = []\n",
    "    for _, row in df[eval_cols].iterrows():\n",
    "        row_labels = [f\"{col}={row[col]}\" for col in eval_cols if row[col] != 'N/A']\n",
    "        labels.append(row_labels)\n",
    "\n",
    "    mlb = MultiLabelBinarizer()\n",
    "    Y = mlb.fit_transform(labels)\n",
    "\n",
    "    # Filter to the existing train set\n",
    "    train_df = df[df['split'] == 'train']\n",
    "    train_idx = train_df.index.to_numpy()\n",
    "    Y_train = Y[train_idx]\n",
    "\n",
    "    # Stratified split: reserve 20% of train as validation\n",
    "    splitter = MultilabelStratifiedShuffleSplit(\n",
    "        n_splits=1, test_size=0.2, random_state=42\n",
    "    )\n",
    "    _, val_rel_idx = next(splitter.split(train_df, Y_train))\n",
    "    val_idx = train_idx[val_rel_idx]\n",
    "\n",
    "    # Assign the 'val' label alongside existing 'train'/'test'\n",
    "    df.loc[val_idx, 'split'] = 'val'\n",
    "\n",
    "    # Save to new CSV\n",
    "    df.to_csv(OUTPUT_CSV, index=False)\n",
    "    print(f\"✅ Saved new file with validation split to: {OUTPUT_CSV}\")\n",
    "\n",
    "if __name__ == '__main__':\n",
    "    main()\n"
   ]
  },
  {
   "cell_type": "code",
   "execution_count": 5,
   "id": "6a185a36",
   "metadata": {},
   "outputs": [
    {
     "name": "stdout",
     "output_type": "stream",
     "text": [
      "Filtered and updated rows saved to /Users/mkrasnow/Desktop/montesa/new/formattedData/test_only_peru_cleaned_transcripts.csv\n"
     ]
    }
   ],
   "source": [
    "import pandas as pd \n",
    "\n",
    "output_file = '/Users/mkrasnow/Desktop/montesa/new/formattedData/test_only_peru_cleaned_transcripts.csv'\n",
    "\n",
    "df = pd.read_csv(OUTPUT_CSV)\n",
    "\n",
    "# Isolate rows where split == 'val'\n",
    "df_val = df[df['split'] == 'test'].copy()\n",
    "\n",
    "# Change the split value from 'val' to 'train'\n",
    "# df_val['split'] = 'train'\n",
    "\n",
    "# Save the resulting DataFrame to a new CSV\n",
    "df_val.to_csv(output_file, index=False)\n",
    "print(f\"Filtered and updated rows saved to {output_file}\")"
   ]
  }
 ],
 "metadata": {
  "kernelspec": {
   "display_name": "Harvard",
   "language": "python",
   "name": "python3"
  },
  "language_info": {
   "codemirror_mode": {
    "name": "ipython",
    "version": 3
   },
   "file_extension": ".py",
   "mimetype": "text/x-python",
   "name": "python",
   "nbconvert_exporter": "python",
   "pygments_lexer": "ipython3",
   "version": "3.12.5"
  }
 },
 "nbformat": 4,
 "nbformat_minor": 5
}
