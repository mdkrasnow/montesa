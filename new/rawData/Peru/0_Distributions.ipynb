{
  "cells": [
    {
      "cell_type": "markdown",
      "id": "f7b42b57",
      "metadata": {},
      "source": [
        "# Historical Score Distribution Appender Notebook\n",
        "\n",
        "This notebook computes the proportion distribution of each component's scores in the training set and appends the historical score proportion distribution to the rubric of `Teach_1.json`.\n"
      ]
    },
    {
      "cell_type": "markdown",
      "id": "beedc398",
      "metadata": {},
      "source": [
        "## 1. Setup and Imports\n",
        "Import necessary libraries."
      ]
    },
    {
      "cell_type": "code",
      "execution_count": 1,
      "id": "875cacbb",
      "metadata": {},
      "outputs": [],
      "source": [
        "import pandas as pd\n",
        "import json\n",
        "import os"
      ]
    },
    {
      "cell_type": "markdown",
      "id": "893dccda",
      "metadata": {},
      "source": [
        "## 2. Define File Paths\n",
        "Set the paths for the transcripts CSV and the TEACH framework JSON."
      ]
    },
    {
      "cell_type": "code",
      "execution_count": 2,
      "id": "c58275e6",
      "metadata": {},
      "outputs": [],
      "source": [
        "TRANSCRIPTS_PATH = '/Users/mkrasnow/Desktop/montesa/new/formattedData/peru_cleaned_transcripts.csv'\n",
        "FRAMEWORK_PATH = '/Users/mkrasnow/Desktop/montesa/new/models/_context/Teach_1.json'"
      ]
    },
    {
      "cell_type": "markdown",
      "id": "e9e8e4b6",
      "metadata": {},
      "source": [
        "## 3. Load Data\n",
        "Read the CSV into a DataFrame and load the JSON framework."
      ]
    },
    {
      "cell_type": "code",
      "execution_count": 3,
      "id": "51744d90",
      "metadata": {},
      "outputs": [],
      "source": [
        "df = pd.read_csv(TRANSCRIPTS_PATH)\n",
        "with open(FRAMEWORK_PATH, 'r') as f:\n",
        "    framework = json.load(f)"
      ]
    },
    {
      "cell_type": "markdown",
      "id": "510f5fcc",
      "metadata": {},
      "source": [
        "## 4. Filter Training Data\n",
        "Exclude test rows to avoid data leakage."
      ]
    },
    {
      "cell_type": "code",
      "execution_count": 4,
      "id": "93c9fda4",
      "metadata": {},
      "outputs": [],
      "source": [
        "train_df = df[df['split'] == 'train']"
      ]
    },
    {
      "cell_type": "markdown",
      "id": "9a12b622",
      "metadata": {},
      "source": [
        "## 5. Compute Score Proportion Distributions and Update Rubrics\n",
        "- Replace blank values and any 'n' markers with \"N/A\" for clarity.\n",
        "- Compute the proportion that each score takes up in the training set (rounded to two decimal places).\n",
        "- Append the resulting JSON-formatted proportions to each component's rubric."
      ]
    },
    {
      "cell_type": "code",
      "execution_count": 5,
      "id": "21ce8c5f",
      "metadata": {},
      "outputs": [],
      "source": [
        "for domain in framework['structure']['domains']:\n",
        "    for component in domain['components']:\n",
        "        col = component['id']\n",
        "        # Replace empty strings or 'n' markers with pandas NA, then fill with 'N/A'\n",
        "        col_series = (\n",
        "            train_df[col]\n",
        "            .replace('', pd.NA)\n",
        "            .replace('n', pd.NA)\n",
        "            .fillna('N/A')\n",
        "        )\n",
        "        # Compute normalized proportions\n",
        "        proportions = col_series.value_counts(normalize=True)\n",
        "        # Round to two decimal places\n",
        "        distribution_dict = {score: round(pct, 2) for score, pct in proportions.items()}\n",
        "        # Ensure any leftover 'n' keys are correctly labeled as 'N/A'\n",
        "        fixed_dict = {}\n",
        "        for score, pct in distribution_dict.items():\n",
        "            key = 'N/A' if score == 'n' else score\n",
        "            fixed_dict[key] = pct\n",
        "        # Convert to JSON string for inclusion in rubric\n",
        "        distribution_str = json.dumps(fixed_dict)\n",
        "        # Append to rubric text\n",
        "        original_rubric = component.get('rubric', '')\n",
        "        component['rubric'] = (\n",
        "            original_rubric\n",
        "            + ' The historical score proportions for this component are: '\n",
        "            + distribution_str\n",
        "        )"
      ]
    },
    {
      "cell_type": "markdown",
      "id": "7a01c52a",
      "metadata": {},
      "source": [
        "## 6. Save Updated Framework\n",
        "Write the modified framework to a new JSON file."
      ]
    },
    {
      "cell_type": "code",
      "execution_count": 6,
      "id": "28eebb27",
      "metadata": {},
      "outputs": [
        {
          "name": "stdout",
          "output_type": "stream",
          "text": [
            "Updated framework saved to /Users/mkrasnow/Desktop/montesa/new/models/_context/Teach_1_with_distribution.json\n"
          ]
        }
      ],
      "source": [
        "OUTPUT_PATH = os.path.join(\n",
        "    os.path.dirname(FRAMEWORK_PATH),\n",
        "    'Teach_1_with_distribution.json'\n",
        ")\n",
        "with open(OUTPUT_PATH, 'w') as f:\n",
        "    json.dump(framework, f, indent=2)\n",
        "print(f\"Updated framework saved to {OUTPUT_PATH}\")"
      ]
    },
    {
      "cell_type": "markdown",
      "id": "5fd2b5cc",
      "metadata": {},
      "source": [
        "### Conclusion\n",
        "Proportion distributions computed, blanks labeled as \"N/A\", and appended successfully."
      ]
    }
  ],
  "metadata": {
    "kernelspec": {
      "display_name": "Harvard",
      "language": "python",
      "name": "python3"
    },
    "language_info": {
      "codemirror_mode": {
        "name": "ipython",
        "version": 3
      },
      "file_extension": ".py",
      "mimetype": "text/x-python",
      "name": "python",
      "nbconvert_exporter": "python",
      "pygments_lexer": "ipython3",
      "version": "3.12.5"
    }
  },
  "nbformat": 4,
  "nbformat_minor": 5
}
