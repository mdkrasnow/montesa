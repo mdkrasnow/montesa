{
 "cells": [
  {
   "cell_type": "markdown",
   "metadata": {},
   "source": [
    "# Data Formatting\n",
    "This notebook loads the raw TEACH evaluation CSV files and standardizes them according to the column requirements described in the Montesa research plan."
   ]
  },
  {
   "cell_type": "code",
   "execution_count": null,
   "metadata": {},
   "outputs": [],
   "source": [
    "import pandas as pd\n",
    "from pathlib import Path"
   ]
  },
  {
   "cell_type": "code",
   "execution_count": null,
   "metadata": {},
   "outputs": [],
   "source": [
    "raw_dir = Path('new/rawData')\n",
    "output_dir = Path('new/formattedData')\n",
    "output_dir.mkdir(exist_ok=True)\n",
    "\n",
    "def load_dataset(path):\n",
    "    with path.open('r', encoding='utf-8-sig') as f:\n",
    "        lines = f.readlines()\n",
    "    header1 = [h.strip() for h in lines[0].split(',')]\n",
    "    header2 = [h.strip() for h in lines[1].split(',')]\n",
    "    cols = header1[:3] + header2[3:]\n",
    "    df = pd.read_csv(path, header=None, skiprows=[0,2], names=cols)\n",
    "    return df\n"
   ]
  },
  {
   "cell_type": "code",
   "execution_count": null,
   "metadata": {},
   "outputs": [],
   "source": [
    "peru = load_dataset(raw_dir / 'Peru' / 'TEACH_Final_Scores_4 - Peru.csv')\n",
    "peru['Country of Origin'] = 'Peru'\n",
    "\n",
    "rwanda = load_dataset(raw_dir / 'Rwanda' / 'Teach_Final_Scores_v1(ALL_Scores).csv')\n",
    "rwanda['Country of Origin'] = 'Rwanda'\n",
    "\n",
    "df = pd.concat([peru, rwanda], ignore_index=True)\n",
    "\n",
    "for col in ['Identifier', 'Audio File 1', 'Audio File 2', 'Transcription 1', 'Transcription 2', 'Language', 'Context']:\n",
    "    if col not in df.columns:\n",
    "        df[col] = ''\n",
    "df['Identifier'] = df.index.map(lambda i: f'observation_{i:05d}')\n",
    "\n",
    "df.to_csv(output_dir / 'montesa_formatted.csv', index=False)\n",
    "df.head()\n"
   ]
  }
 ],
 "metadata": {
  "kernelspec": {
   "display_name": "Python 3",
   "language": "python",
   "name": "python3"
  },
  "language_info": {
   "name": "python",
   "pygments_lexer": "ipython3"
  }
 },
 "nbformat": 4,
 "nbformat_minor": 5
}
