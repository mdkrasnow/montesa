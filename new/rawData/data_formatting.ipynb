{
 "cells": [
  {
   "cell_type": "markdown",
   "metadata": {},
   "source": [
    "# Data Formatting\n",
    "This notebook loads the raw TEACH evaluation CSV files and standardizes them according to the column requirements described in the Montesa research plan."
   ]
  },
  {
   "cell_type": "code",
   "execution_count": null,
   "id": "805e27fc",
   "metadata": {},
   "outputs": [],
   "source": [
    "import pandas as pd\n",
    "from pathlib import Path"
   ]
  },
  {
   "cell_type": "code",
   "execution_count": null,
   "id": "14ca853f",
   "metadata": {},
   "outputs": [],
   "source": [
    "# Use paths relative to this notebook's directory\n",
    "raw_dir = Path('.')\n",
    "output_dir = Path('..') / 'formattedData'\n",
    "output_dir.mkdir(exist_ok=True)\n",
    "\n",
    "def load_dataset(path):\n",
    "    with path.open('r', encoding='latin-1') as f:\n",
    "        lines = f.readlines()\n",
    "    header1 = [h.strip() for h in lines[0].split(',')]\n",
    "    header2 = [h.strip() for h in lines[1].split(',')]\n",
    "    base_cols = header1[:3] + header2[3:]\n",
    "    cols = []\n",
    "    counts = {}\n",
    "    for col in base_cols:\n",
    "        col = col or 'Unnamed'\n",
    "        if col in counts:\n",
    "            counts[col] += 1\n",
    "            cols.append(f'{col}_{counts[col]}')\n",
    "        else:\n",
    "            counts[col] = 0\n",
    "            cols.append(col)\n",
    "    df = pd.read_csv(path, header=None, skiprows=[0,2], names=cols, encoding='latin-1')\n",
    "    return df\n"
   ]
  },
  {
   "cell_type": "code",
   "execution_count": null,
   "id": "d394684a",
   "metadata": {},
   "outputs": [],
   "source": [
    "peru = load_dataset(raw_dir / 'Peru' / 'TEACH_Final_Scores_4 - Peru.csv')\n",
    "peru['Source Table'] = 'Peru'\n",
    "\n",
    "rwanda = load_dataset(raw_dir / 'Rwanda' / 'Teach_Final_Scores_v1(ALL_Scores).csv')\n",
    "rwanda['Source Table'] = 'Rwanda'\n",
    "\n",
    "df = pd.concat([peru, rwanda], ignore_index=True)\n",
    "\n",
    "for col in ['Identifier', 'Audio File 1', 'Audio File 2', 'Transcription 1', 'Transcription 2', 'Language', 'Context']:\n",
    "    if col not in df.columns:\n",
    "        df[col] = ''\n",
    "df['Identifier'] = df.index.map(lambda i: f'observation_{i:05d}')\n",
    "\n",
    "df.to_csv(output_dir / 'montesa_formatted.csv', index=False)\n",
    "df.head()\n"
   ]
  }
 ],
 "metadata": {
  "kernelspec": {
   "display_name": "Harvard",
   "language": "python",
   "name": "python3"
  },
  "language_info": {
   "name": "python",
   "pygments_lexer": "ipython3",
   "version": "3.12.5"
  }
 },
 "nbformat": 4,
 "nbformat_minor": 5
}
